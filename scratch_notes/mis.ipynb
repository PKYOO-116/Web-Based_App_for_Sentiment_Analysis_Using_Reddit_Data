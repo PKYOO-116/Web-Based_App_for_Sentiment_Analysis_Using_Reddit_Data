{
 "cells": [
  {
   "cell_type": "code",
   "execution_count": 71,
   "id": "initial_id",
   "metadata": {
    "collapsed": true,
    "ExecuteTime": {
     "end_time": "2024-04-16T06:52:38.351133Z",
     "start_time": "2024-04-16T06:52:38.345535Z"
    }
   },
   "outputs": [],
   "source": [
    "f = open('Political_subreddits.txt', 'r')"
   ]
  },
  {
   "cell_type": "code",
   "execution_count": 72,
   "outputs": [],
   "source": [
    "p = []"
   ],
   "metadata": {
    "collapsed": false,
    "ExecuteTime": {
     "end_time": "2024-04-16T06:52:38.819924Z",
     "start_time": "2024-04-16T06:52:38.818307Z"
    }
   },
   "id": "9ac2db777f0a30af"
  },
  {
   "cell_type": "code",
   "execution_count": 73,
   "outputs": [
    {
     "name": "stdout",
     "output_type": "stream",
     "text": [
      "['Politics']\n",
      "['US Politics']\n",
      "['American Politics']\n",
      "['Alabama Politics']\n",
      "['Alaska Politics']\n",
      "['Arizona Politics']\n",
      "['Arkansas Politics']\n",
      "['California Politics']\n",
      "['Colorado Politics']\n",
      "['Connecticut Politics']\n",
      "['Delaware Politics']\n",
      "['Florida Politics']\n",
      "['Georgia Politics']\n",
      "['Hawaii Politics']\n",
      "['Idaho Politics']\n",
      "['Illinois Politics']\n",
      "['Indiana Politics']\n",
      "['Iowa Politics']\n",
      "['Kansas Politics']\n",
      "['Kentucky Politics']\n",
      "['Louisiana Politics']\n",
      "['Maine Politics']\n",
      "['Maryland Politics']\n",
      "['Massachusetts Politics']\n",
      "['Michigan Politics']\n",
      "['Minnesota Politics']\n",
      "['Mississippi Politics']\n",
      "['Missouri Politics']\n",
      "['Montana Politics']\n",
      "['Nebraska Politics']\n",
      "['Nevada Politics']\n",
      "['New Hampshire Politics']\n",
      "['New Jersey Politics']\n",
      "['New Mexico Politics']\n",
      "['New York Politics']\n",
      "['North Carolina Politics']\n",
      "['North Dakota Politics']\n",
      "['Ohio Politics']\n",
      "['Oklahoma Politics']\n",
      "['Oregon Politics']\n",
      "['Pennsylvania Politics']\n",
      "['Rhode Island Politics']\n",
      "['South Carolina Politics']\n",
      "['South Dakota Politics']\n",
      "['Tennessee Politics']\n",
      "['Texas Politics']\n",
      "['Utah Politics']\n",
      "['Vermont Politics']\n",
      "['Virginia Politics']\n",
      "['Washington Politics']\n",
      "['West Virginia Politics']\n",
      "['Wisconsin Politics']\n",
      "['Wyoming Politics']\n",
      "['Democrat']\n",
      "['Republican']\n",
      "['Liberal']\n",
      "['Conservative']\n",
      "['Libertarian']\n",
      "['Anarchism']\n",
      "['Socialism']\n",
      "['Progressive']\n",
      "['Democratic Socialism']\n",
      "['Libertarian Left']\n",
      "['Liberty']\n",
      "['Anarcho Capitalism']\n",
      "['All the Left']\n",
      "['Neo-Progressives']\n",
      "['Black Flag']\n",
      "['Late Stage Capitalism']\n",
      "['Green Party']\n",
      "['Democracy']\n",
      "['International Workers of the World']\n",
      "['Marxism']\n",
      "['Libertarian Socialism']\n",
      "['Capitalism']\n",
      "['Anarchist']\n",
      "['Republicans']\n",
      "['Democrats']\n",
      "['Communist']\n",
      "['Social Democracy']\n",
      "['Post Left Anarchism']\n",
      "['Anarcho Pacifism']\n",
      "['Georgism']\n",
      "['Conservatives']\n",
      "['Republicanism']\n",
      "['Texas Democrats']\n"
     ]
    }
   ],
   "source": [
    "for r in f:\n",
    "    r = r.split('\\n')\n",
    "    r.remove('')\n",
    "    if r[0] != '':\n",
    "        print(r)\n",
    "        for l in r:\n",
    "            p.append(l)"
   ],
   "metadata": {
    "collapsed": false,
    "ExecuteTime": {
     "end_time": "2024-04-16T06:52:39.538357Z",
     "start_time": "2024-04-16T06:52:39.534149Z"
    }
   },
   "id": "44a37cc8a67c546"
  },
  {
   "cell_type": "code",
   "execution_count": 74,
   "outputs": [
    {
     "data": {
      "text/plain": "['Politics',\n 'US Politics',\n 'American Politics',\n 'Alabama Politics',\n 'Alaska Politics',\n 'Arizona Politics',\n 'Arkansas Politics',\n 'California Politics',\n 'Colorado Politics',\n 'Connecticut Politics',\n 'Delaware Politics',\n 'Florida Politics',\n 'Georgia Politics',\n 'Hawaii Politics',\n 'Idaho Politics',\n 'Illinois Politics',\n 'Indiana Politics',\n 'Iowa Politics',\n 'Kansas Politics',\n 'Kentucky Politics',\n 'Louisiana Politics',\n 'Maine Politics',\n 'Maryland Politics',\n 'Massachusetts Politics',\n 'Michigan Politics',\n 'Minnesota Politics',\n 'Mississippi Politics',\n 'Missouri Politics',\n 'Montana Politics',\n 'Nebraska Politics',\n 'Nevada Politics',\n 'New Hampshire Politics',\n 'New Jersey Politics',\n 'New Mexico Politics',\n 'New York Politics',\n 'North Carolina Politics',\n 'North Dakota Politics',\n 'Ohio Politics',\n 'Oklahoma Politics',\n 'Oregon Politics',\n 'Pennsylvania Politics',\n 'Rhode Island Politics',\n 'South Carolina Politics',\n 'South Dakota Politics',\n 'Tennessee Politics',\n 'Texas Politics',\n 'Utah Politics',\n 'Vermont Politics',\n 'Virginia Politics',\n 'Washington Politics',\n 'West Virginia Politics',\n 'Wisconsin Politics',\n 'Wyoming Politics',\n 'Democrat',\n 'Republican',\n 'Liberal',\n 'Conservative',\n 'Libertarian',\n 'Anarchism',\n 'Socialism',\n 'Progressive',\n 'Democratic Socialism',\n 'Libertarian Left',\n 'Liberty',\n 'Anarcho Capitalism',\n 'All the Left',\n 'Neo-Progressives',\n 'Black Flag',\n 'Late Stage Capitalism',\n 'Green Party',\n 'Democracy',\n 'International Workers of the World',\n 'Marxism',\n 'Libertarian Socialism',\n 'Capitalism',\n 'Anarchist',\n 'Republicans',\n 'Democrats',\n 'Communist',\n 'Social Democracy',\n 'Post Left Anarchism',\n 'Anarcho Pacifism',\n 'Georgism',\n 'Conservatives',\n 'Republicanism',\n 'Texas Democrats']"
     },
     "execution_count": 74,
     "metadata": {},
     "output_type": "execute_result"
    }
   ],
   "source": [
    "p"
   ],
   "metadata": {
    "collapsed": false,
    "ExecuteTime": {
     "end_time": "2024-04-16T06:52:40.715979Z",
     "start_time": "2024-04-16T06:52:40.713556Z"
    }
   },
   "id": "8fbef7d2d5716c44"
  },
  {
   "cell_type": "code",
   "execution_count": 75,
   "outputs": [],
   "source": [
    "par = ','.join(p)"
   ],
   "metadata": {
    "collapsed": false,
    "ExecuteTime": {
     "end_time": "2024-04-16T06:52:41.647086Z",
     "start_time": "2024-04-16T06:52:41.644619Z"
    }
   },
   "id": "f552d567f97683e7"
  },
  {
   "cell_type": "code",
   "execution_count": 76,
   "outputs": [
    {
     "name": "stdout",
     "output_type": "stream",
     "text": [
      "Politics,US Politics,American Politics,Alabama Politics,Alaska Politics,Arizona Politics,Arkansas Politics,California Politics,Colorado Politics,Connecticut Politics,Delaware Politics,Florida Politics,Georgia Politics,Hawaii Politics,Idaho Politics,Illinois Politics,Indiana Politics,Iowa Politics,Kansas Politics,Kentucky Politics,Louisiana Politics,Maine Politics,Maryland Politics,Massachusetts Politics,Michigan Politics,Minnesota Politics,Mississippi Politics,Missouri Politics,Montana Politics,Nebraska Politics,Nevada Politics,New Hampshire Politics,New Jersey Politics,New Mexico Politics,New York Politics,North Carolina Politics,North Dakota Politics,Ohio Politics,Oklahoma Politics,Oregon Politics,Pennsylvania Politics,Rhode Island Politics,South Carolina Politics,South Dakota Politics,Tennessee Politics,Texas Politics,Utah Politics,Vermont Politics,Virginia Politics,Washington Politics,West Virginia Politics,Wisconsin Politics,Wyoming Politics,Democrat,Republican,Liberal,Conservative,Libertarian,Anarchism,Socialism,Progressive,Democratic Socialism,Libertarian Left,Liberty,Anarcho Capitalism,All the Left,Neo-Progressives,Black Flag,Late Stage Capitalism,Green Party,Democracy,International Workers of the World,Marxism,Libertarian Socialism,Capitalism,Anarchist,Republicans,Democrats,Communist,Social Democracy,Post Left Anarchism,Anarcho Pacifism,Georgism,Conservatives,Republicanism,Texas Democrats\n"
     ]
    }
   ],
   "source": [
    "print(par)"
   ],
   "metadata": {
    "collapsed": false,
    "ExecuteTime": {
     "end_time": "2024-04-16T06:52:42.887969Z",
     "start_time": "2024-04-16T06:52:42.882585Z"
    }
   },
   "id": "6594a2cd29c5cc8a"
  },
  {
   "cell_type": "markdown",
   "source": [
    "Politics,US Politics,American Politics,Alabama Politics,Alaska Politics,Arizona Politics,Arkansas Politics,California Politics,Colorado Politics,Connecticut Politics,Delaware Politics,Florida Politics,Georgia Politics,Hawaii Politics,Idaho Politics,Illinois Politics,Indiana Politics,Iowa Politics,Kansas Politics,Kentucky Politics,Louisiana Politics,Maine Politics,Maryland Politics,Massachusetts Politics,Michigan Politics,Minnesota Politics,Mississippi Politics,Missouri Politics,Montana Politics,Nebraska Politics,Nevada Politics,New Hampshire Politics,New Jersey Politics,New Mexico Politics,New York Politics,North Carolina Politics,North Dakota Politics,Ohio Politics,Oklahoma Politics,Oregon Politics,Pennsylvania Politics,Rhode Island Politics,South Carolina Politics,South Dakota Politics,Tennessee Politics,Texas Politics,Utah Politics,Vermont Politics,Virginia Politics,Washington Politics,West Virginia Politics,Wisconsin Politics,Wyoming Politics,Democrat,Republican,Liberal,Conservative,Libertarian,Anarchism,Socialism,Progressive,Democratic Socialism,Libertarian Left,Liberty,Anarcho Capitalism,All the Left,Neo-Progressives,Black Flag,Late Stage Capitalism,Green Party,Democracy,International Workers of the World,Marxism,Libertarian Socialism,Capitalism,Anarchist,Republicans,Democrats,Communist,Social Democracy,Post Left Anarchism,Anarcho Pacifism,Georgism,Conservatives,Republicanism,Texas Democrats\n"
   ],
   "metadata": {
    "collapsed": false
   },
   "id": "abbe423933969956"
  },
  {
   "cell_type": "markdown",
   "source": [
    "Trump, Biden, Donald, Joe, President, Election, United States Presidential Election"
   ],
   "metadata": {
    "collapsed": false
   },
   "id": "eaee2c72f0b79eb3"
  },
  {
   "cell_type": "code",
   "execution_count": 3,
   "outputs": [],
   "source": [
    "keywords = input(\"Enter comma-separated keywords: \").split(',')"
   ],
   "metadata": {
    "collapsed": false,
    "ExecuteTime": {
     "end_time": "2024-04-17T09:12:54.873811Z",
     "start_time": "2024-04-17T09:12:49.189122Z"
    }
   },
   "id": "ae8adb406288da31"
  },
  {
   "cell_type": "code",
   "execution_count": 4,
   "outputs": [
    {
     "data": {
      "text/plain": "['Trump']"
     },
     "execution_count": 4,
     "metadata": {},
     "output_type": "execute_result"
    }
   ],
   "source": [
    "keywords"
   ],
   "metadata": {
    "collapsed": false,
    "ExecuteTime": {
     "end_time": "2024-04-17T09:12:56.032026Z",
     "start_time": "2024-04-17T09:12:56.027875Z"
    }
   },
   "id": "1dc7a82fbaa8f48c"
  },
  {
   "cell_type": "code",
   "execution_count": 5,
   "outputs": [],
   "source": [
    "key = ', '.join(keywords)"
   ],
   "metadata": {
    "collapsed": false,
    "ExecuteTime": {
     "end_time": "2024-04-17T09:13:17.088994Z",
     "start_time": "2024-04-17T09:13:17.081443Z"
    }
   },
   "id": "dea6aa0a2c0cdf9d"
  },
  {
   "cell_type": "code",
   "execution_count": 6,
   "outputs": [
    {
     "data": {
      "text/plain": "'Trump'"
     },
     "execution_count": 6,
     "metadata": {},
     "output_type": "execute_result"
    }
   ],
   "source": [
    "key"
   ],
   "metadata": {
    "collapsed": false,
    "ExecuteTime": {
     "end_time": "2024-04-17T09:13:19.791969Z",
     "start_time": "2024-04-17T09:13:19.783772Z"
    }
   },
   "id": "507e46df8855c04d"
  },
  {
   "cell_type": "code",
   "execution_count": null,
   "outputs": [],
   "source": [],
   "metadata": {
    "collapsed": false
   },
   "id": "832fce99af064735"
  }
 ],
 "metadata": {
  "kernelspec": {
   "display_name": "Python 3",
   "language": "python",
   "name": "python3"
  },
  "language_info": {
   "codemirror_mode": {
    "name": "ipython",
    "version": 2
   },
   "file_extension": ".py",
   "mimetype": "text/x-python",
   "name": "python",
   "nbconvert_exporter": "python",
   "pygments_lexer": "ipython2",
   "version": "2.7.6"
  }
 },
 "nbformat": 4,
 "nbformat_minor": 5
}
